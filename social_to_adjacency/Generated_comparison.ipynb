{
 "cells": [
  {
   "cell_type": "code",
   "execution_count": 1,
   "id": "57be343e-eaa7-46d2-b274-e7a63afd1816",
   "metadata": {},
   "outputs": [],
   "source": [
    "import os\n",
    "import numpy as np\n",
    "import networkx as nx\n",
    "import pandas as pd\n",
    "import matplotlib.pyplot as plt\n",
    "from tqdm import tqdm\n",
    "from random import shuffle"
   ]
  },
  {
   "cell_type": "code",
   "execution_count": 2,
   "id": "cea6fae2-94d5-4684-ae0b-210d04e81b1a",
   "metadata": {},
   "outputs": [],
   "source": [
    "data_dir = \"/home/alex/Projects/GRAN_social/exp/GRAN\"\n",
    "os.chdir(data_dir)\n",
    "\n",
    "def load_from_constructed(path, keep_largest = True, min_size = None):\n",
    "    graphs = []\n",
    "    for f in os.listdir(path):\n",
    "        g = nx.read_edgelist(os.path.join(path, f))\n",
    "        if min_size is not None:\n",
    "            if g.number_of_nodes() >= min_size:\n",
    "                graphs.append(g)\n",
    "        else:\n",
    "            graphs.append(g)\n",
    "    \n",
    "    if keep_largest:\n",
    "        out_graphs = []\n",
    "        for gg in graphs:\n",
    "            CGs = [gg.subgraph(c) for c in nx.connected_components(gg)]\n",
    "            CGs = sorted(CGs, key=lambda x: x.number_of_nodes(), reverse=True)\n",
    "            if len(CGs) != 0:\n",
    "                out_graphs += [CGs[0]]\n",
    "\n",
    "        return out_graphs\n",
    "    else:\n",
    "        return graphs"
   ]
  },
  {
   "cell_type": "code",
   "execution_count": 22,
   "id": "1300e6d6-a3cb-47a7-8424-39f99c674b38",
   "metadata": {},
   "outputs": [],
   "source": [
    "def plot_examples(paths, labels, data_dir):\n",
    "\n",
    "    fig, axes = plt.subplots(ncols = 3, nrows = 3*len(paths), figsize = (8 + 0.2, 6*len(paths)), constrained_layout = True)\n",
    "    print(axes)\n",
    "    for ind_row, row in enumerate(tqdm(axes)):\n",
    "        root_path = os.path.join(data_dir, paths[int(ind_row/3)])\n",
    "        print(root_path)\n",
    "        if ind_row % 3 == 0:\n",
    "            graphs = load_from_constructed(os.path.join(root_path, \"sample_graphs\"), min_size = 11)\n",
    "            row[0].set_ylabel(f\"Real\\n{labels[int(ind_row/3)]}\")\n",
    "            # row[0].set_ylabel(f\"Sample,\\n {paths[int(ind_row/2)]}\")\n",
    "        elif ind_row % 3 == 1:\n",
    "            graphs = load_from_constructed(os.path.join(root_path, \"pred_graphs\"))\n",
    "            row[0].set_ylabel(f\"GRAN\\n{labels[int(ind_row/3)]}\")\n",
    "        else:\n",
    "            graphs = load_from_constructed(os.path.join(root_path, \"rmat_graphs\"), min_size = 11)\n",
    "            row[0].set_ylabel(f\"R-MAT\\n{labels[int(ind_row/3)]}\")            \n",
    "        shuffle(graphs)\n",
    "\n",
    "        for ind_col, ax in enumerate(row):\n",
    "            \n",
    "            ax.axis('equal')\n",
    "            \n",
    "            G = graphs[ind_col]\n",
    "            print(G)\n",
    "#             nx.draw(G)\n",
    "#             plt.show()\n",
    "            \n",
    "            # pos = nx.nx_pydot.graphviz_layout(G, prog=\"sfdp\")\n",
    "            pos = nx.spring_layout(G, iterations = 100)\n",
    "            # pos = nx.kamada_kawai_layout(G)\n",
    "            \n",
    "            # clustering = nx.degree(G)\n",
    "            \n",
    "            # print(clustering)\n",
    "            \n",
    "            # colours = []\n",
    "            # for c in clustering:\n",
    "            #     colours.append(clustering[c])\n",
    "            nx.draw_networkx_nodes(\n",
    "                G,\n",
    "                pos,\n",
    "                node_size=10,\n",
    "                node_color= '#336699',\n",
    "                alpha=1,\n",
    "                linewidths=0.5,\n",
    "                edgecolors=\"black\",\n",
    "                ax = ax)\n",
    "            nx.draw_networkx_edges(G, pos, alpha=0.75, width=4, node_size = 10, ax = ax)\n",
    "    plt.show()\n",
    "    # plt.savefig(f\"generated_visualisations_{labels[0]}.pdf\", dpi = 300)\n",
    "\n",
    "def community_labels(communities):\n",
    "    keys = list(communities.keys())\n",
    "    labels = []\n",
    "    \n",
    "    for k in keys:\n",
    "        label = communities[k]\n",
    "        if label not in labels:\n",
    "            labels.append(label)\n",
    "            \n",
    "    return labels"
   ]
  },
  {
   "cell_type": "code",
   "execution_count": 23,
   "id": "07ffc573-4c53-434b-a885-22488cede605",
   "metadata": {},
   "outputs": [
    {
     "name": "stdout",
     "output_type": "stream",
     "text": [
      "[[<AxesSubplot: > <AxesSubplot: > <AxesSubplot: >]\n",
      " [<AxesSubplot: > <AxesSubplot: > <AxesSubplot: >]\n",
      " [<AxesSubplot: > <AxesSubplot: > <AxesSubplot: >]]\n"
     ]
    },
    {
     "name": "stderr",
     "output_type": "stream",
     "text": [
      "  0%|                                                                              | 0/3 [00:00<?, ?it/s]"
     ]
    },
    {
     "name": "stdout",
     "output_type": "stream",
     "text": [
      "/home/alex/Projects/GRAN_social/exp/GRAN/TWITCH\n",
      "Graph with 399 nodes and 871 edges\n",
      "Graph with 385 nodes and 777 edges\n",
      "Graph with 406 nodes and 750 edges\n"
     ]
    },
    {
     "name": "stderr",
     "output_type": "stream",
     "text": [
      " 33%|███████████████████████▎                                              | 1/3 [00:01<00:02,  1.44s/it]"
     ]
    },
    {
     "name": "stdout",
     "output_type": "stream",
     "text": [
      "/home/alex/Projects/GRAN_social/exp/GRAN/TWITCH\n",
      "Graph with 128 nodes and 193 edges\n",
      "Graph with 267 nodes and 490 edges\n"
     ]
    },
    {
     "name": "stderr",
     "output_type": "stream",
     "text": [
      " 67%|██████████████████████████████████████████████▋                       | 2/3 [00:01<00:00,  1.17it/s]"
     ]
    },
    {
     "name": "stdout",
     "output_type": "stream",
     "text": [
      "Graph with 232 nodes and 441 edges\n",
      "/home/alex/Projects/GRAN_social/exp/GRAN/TWITCH\n",
      "Graph with 389 nodes and 796 edges\n",
      "Graph with 367 nodes and 772 edges\n",
      "Graph with 392 nodes and 804 edges\n"
     ]
    },
    {
     "name": "stderr",
     "output_type": "stream",
     "text": [
      "100%|██████████████████████████████████████████████████████████████████████| 3/3 [00:03<00:00,  1.06s/it]\n"
     ]
    },
    {
     "data": {
      "image/png": "[encoded data removed]",
      "text/plain": [
       "<Figure size 590.4x432 with 9 Axes>"
      ]
     },
     "metadata": {},
     "output_type": "display_data"
    }
   ],
   "source": [
    "paths = [\"TWITCH\"]\n",
    "labels = [\"Twitch\"]\n",
    "\n",
    "plot_examples(paths, labels, data_dir)"
   ]
  },
  {
   "cell_type": "code",
   "execution_count": 5,
   "id": "6217e671-6e42-4a10-978b-3feec25fa1f7",
   "metadata": {},
   "outputs": [
    {
     "name": "stderr",
     "output_type": "stream",
     "text": [
      "  0%|                                                                              | 0/3 [00:00<?, ?it/s]"
     ]
    },
    {
     "name": "stdout",
     "output_type": "stream",
     "text": [
      "/home/alex/Projects/GRAN_social/exp/GRAN/FB_LARGE\n"
     ]
    },
    {
     "name": "stderr",
     "output_type": "stream",
     "text": [
      " 33%|███████████████████████▎                                              | 1/3 [00:01<00:02,  1.15s/it]"
     ]
    },
    {
     "name": "stdout",
     "output_type": "stream",
     "text": [
      "/home/alex/Projects/GRAN_social/exp/GRAN/FB_LARGE\n"
     ]
    },
    {
     "name": "stderr",
     "output_type": "stream",
     "text": [
      " 67%|██████████████████████████████████████████████▋                       | 2/3 [00:02<00:01,  1.16s/it]"
     ]
    },
    {
     "name": "stdout",
     "output_type": "stream",
     "text": [
      "/home/alex/Projects/GRAN_social/exp/GRAN/FB_LARGE\n"
     ]
    },
    {
     "name": "stderr",
     "output_type": "stream",
     "text": [
      "100%|██████████████████████████████████████████████████████████████████████| 3/3 [00:03<00:00,  1.22s/it]\n"
     ]
    },
    {
     "data": {
      "image/png": "[encoded data removed]",
      "text/plain": [
       "<Figure size 590.4x432 with 9 Axes>"
      ]
     },
     "metadata": {},
     "output_type": "display_data"
    }
   ],
   "source": [
    "paths = [\"FB_LARGE\"]\n",
    "labels = [\"Facebook\"]\n",
    "\n",
    "plot_examples(paths, labels, data_dir)"
   ]
  },
  {
   "cell_type": "code",
   "execution_count": 6,
   "id": "bb450914-207b-428f-b6c0-58795339baf8",
   "metadata": {},
   "outputs": [
    {
     "name": "stderr",
     "output_type": "stream",
     "text": [
      "  0%|                                                                              | 0/3 [00:00<?, ?it/s]"
     ]
    },
    {
     "name": "stdout",
     "output_type": "stream",
     "text": [
      "/home/alex/Projects/GRAN_social/exp/GRAN/GIT\n"
     ]
    },
    {
     "name": "stderr",
     "output_type": "stream",
     "text": [
      " 33%|███████████████████████▎                                              | 1/3 [00:01<00:02,  1.30s/it]"
     ]
    },
    {
     "name": "stdout",
     "output_type": "stream",
     "text": [
      "/home/alex/Projects/GRAN_social/exp/GRAN/GIT\n"
     ]
    },
    {
     "name": "stderr",
     "output_type": "stream",
     "text": [
      " 67%|██████████████████████████████████████████████▋                       | 2/3 [00:02<00:01,  1.43s/it]"
     ]
    },
    {
     "name": "stdout",
     "output_type": "stream",
     "text": [
      "/home/alex/Projects/GRAN_social/exp/GRAN/GIT\n"
     ]
    },
    {
     "name": "stderr",
     "output_type": "stream",
     "text": [
      "100%|██████████████████████████████████████████████████████████████████████| 3/3 [00:04<00:00,  1.33s/it]\n"
     ]
    },
    {
     "data": {
      "image/png": "[encoded data removed]",
      "text/plain": [
       "<Figure size 590.4x432 with 9 Axes>"
      ]
     },
     "metadata": {},
     "output_type": "display_data"
    }
   ],
   "source": [
    "paths = [\"GIT\"]\n",
    "labels = [\"Github\"]\n",
    "\n",
    "plot_examples(paths, labels, data_dir)"
   ]
  },
  {
   "cell_type": "code",
   "execution_count": 7,
   "id": "deb130a4-0b32-4333-8728-209d81ce6e0c",
   "metadata": {},
   "outputs": [
    {
     "name": "stderr",
     "output_type": "stream",
     "text": [
      " 33%|███████████████████████▎                                              | 1/3 [00:00<00:00,  6.45it/s]"
     ]
    },
    {
     "name": "stdout",
     "output_type": "stream",
     "text": [
      "/home/alex/Projects/GRAN_social/exp/GRAN/DEEZER_EGO\n",
      "/home/alex/Projects/GRAN_social/exp/GRAN/DEEZER_EGO\n"
     ]
    },
    {
     "name": "stderr",
     "output_type": "stream",
     "text": [
      "100%|██████████████████████████████████████████████████████████████████████| 3/3 [00:00<00:00, 11.21it/s]\n"
     ]
    },
    {
     "name": "stdout",
     "output_type": "stream",
     "text": [
      "/home/alex/Projects/GRAN_social/exp/GRAN/DEEZER_EGO\n"
     ]
    },
    {
     "data": {
      "image/png": "[encoded data removed]",
      "text/plain": [
       "<Figure size 590.4x432 with 9 Axes>"
      ]
     },
     "metadata": {},
     "output_type": "display_data"
    }
   ],
   "source": [
    "paths = [\"DEEZER_EGO\"]\n",
    "labels = [\"Deezer Ego\"]\n",
    "\n",
    "plot_examples(paths, labels, data_dir)"
   ]
  },
  {
   "cell_type": "code",
   "execution_count": 8,
   "id": "3385e70f-d951-4a24-8e6b-ffa38652de64",
   "metadata": {},
   "outputs": [],
   "source": [
    "facebook_graphs_real = load_from_constructed(os.path.join(os.path.join(data_dir, \"FB_LARGE\"), \"sample_graphs\"))\n",
    "facebook_graphs_gen  = load_from_constructed(os.path.join(os.path.join(data_dir, \"FB_LARGE\"), \"pred_graphs\"))\n",
    "\n",
    "twitch_graphs_real = load_from_constructed(os.path.join(os.path.join(data_dir, \"TWITCH\"), \"sample_graphs\"))\n",
    "twitch_graphs_gen  = load_from_constructed(os.path.join(os.path.join(data_dir, \"TWITCH\"), \"pred_graphs\"))\n",
    "\n",
    "github_graphs_real = load_from_constructed(os.path.join(os.path.join(data_dir, \"GIT\"), \"sample_graphs\"))\n",
    "github_graphs_gen  = load_from_constructed(os.path.join(os.path.join(data_dir, \"GIT\"), \"pred_graphs\"))\n",
    "\n",
    "deezer_graphs_real = load_from_constructed(os.path.join(os.path.join(data_dir, \"DEEZER_EGO\"), \"sample_graphs\"))\n",
    "deezer_graphs_gen  = load_from_constructed(os.path.join(os.path.join(data_dir, \"DEEZER_EGO\"), \"pred_graphs\"))"
   ]
  },
  {
   "cell_type": "code",
   "execution_count": 9,
   "id": "957904ab-c312-49b6-b715-c9f7bd47f7c4",
   "metadata": {},
   "outputs": [],
   "source": [
    "# # import networkx.algorithms.community as nx_comm\n",
    "# import community as lv\n",
    "# import networkx.algorithms.community as comm\n",
    "\n",
    "\n",
    "\n",
    "# datasets = {\"facebook_real\":{\"data\":facebook_graphs_real},\n",
    "#             \"facebook_gen\":{\"data\":facebook_graphs_gen},\n",
    "#             \"git_real\":{\"data\":github_graphs_real},\n",
    "#             \"git_gen\":{\"data\":github_graphs_gen},\n",
    "#             \"twitch_real\":{\"data\":twitch_graphs_real},\n",
    "#             \"twitch_gen\":{\"data\":twitch_graphs_gen},\n",
    "#             \"deezer_real\":{\"data\":deezer_graphs_real},\n",
    "#             \"deezer_gen\":{\"data\":deezer_graphs_gen}}\n",
    "\n",
    "# keys = list(datasets.keys())\n",
    "\n",
    "# for k in keys:\n",
    "#     print(k)\n",
    "#     graphs = datasets[k][\"data\"]\n",
    "    \n",
    "#     densities  = [nx.density(g) for g in graphs]\n",
    "#     print(\"Densities done\")\n",
    "#     nodes      = [nx.number_of_nodes(g) for g in graphs]\n",
    "#     print(\"Nodes done\")\n",
    "#     # diameters  = [nx.diameter(g) for g in graphs]\n",
    "#     # print(\"Print diameters\")\n",
    "#     coms = []\n",
    "    \n",
    "#     for g in graphs:\n",
    "#         communities = lv.best_partition(g)\n",
    "#         # print(community_labels(communities))\n",
    "#         coms.append(len(community_labels(communities)))\n",
    "    \n",
    "#     # len(lv.best_partition(g)) for g in tqdm(graphs)]\n",
    "#     print(\"Calculated\")\n",
    "#     datasets[k][\"metrics\"] = {\"num_graphs\":len(graphs),\n",
    "#                               \"min_nodes\":min(nodes),\n",
    "#                              \"max_nodes\":max(nodes),\n",
    "#                              \"min_density\":min(densities),\n",
    "#                              \"max_density\":max(densities),\n",
    "#                              \"min_coms\":min(coms),\n",
    "#                              \"max_coms\":max(coms)}#,\n",
    "#                              #\"min_diameter\":min(diameters),\n",
    "#                              #\"max_diameter\":max(diameters)}\n",
    "    \n",
    "# # print(datasets)\n",
    "        "
   ]
  },
  {
   "cell_type": "code",
   "execution_count": 10,
   "id": "9cda5564-aa4e-444b-9f23-cd307f473e07",
   "metadata": {},
   "outputs": [],
   "source": [
    "# user_dict = dict(datasets)\n",
    "\n",
    "\n",
    "# for k in keys:\n",
    "#     del user_dict[k][\"data\"]\n",
    "# print(user_dict)\n",
    "\n",
    "# frame = pd.DataFrame.from_dict({(i,j): user_dict[i][j] \n",
    "#                            for i in user_dict.keys() \n",
    "#                            for j in user_dict[i].keys()},\n",
    "#                        orient='index')\n",
    "# print(frame.transpose())\n",
    "# print(frame.transpose().style.to_latex())"
   ]
  },
  {
   "cell_type": "code",
   "execution_count": 11,
   "id": "f0caba64-9a09-4830-92ac-d8ce13c081d8",
   "metadata": {},
   "outputs": [],
   "source": [
    "# nodes_gen  = []\n",
    "# nodes_real = []\n",
    "\n",
    "\n",
    "\n",
    "# for g in deezer_graphs_gen:\n",
    "#     # if g.number_of_nodes() >= 11:\n",
    "#     nodes_gen.append(g.number_of_nodes())\n",
    "\n",
    "# for g in deezer_graphs_real:\n",
    "#     if g.number_of_nodes() >= 11:\n",
    "#         nodes_real.append(g.number_of_nodes())\n",
    "\n",
    "# plt.figure(figsize = (4,3))    \n",
    "\n",
    "# plt.hist([nodes_gen, nodes_real], label=[\"Generated\", \"Real\"], bins = 50, histtype = \"stepfilled\", alpha = 0.5)\n",
    "# plt.hist([nodes_gen, nodes_real], bins = 50, color=[\"black\", \"black\"], histtype = \"step\")\n",
    "\n",
    "# plt.ylabel(\"Number of graphs\")\n",
    "# plt.xlabel(r\"Size of graph $|V|$\")\n",
    "\n",
    "# plt.legend()\n",
    "# # plt.xlim([0, 80])\n",
    "# plt.yscale('log')\n",
    "# plt.tight_layout()\n",
    "# plt.savefig(\"deezer_hists.png\", dpi = 300)\n",
    "# plt.show()"
   ]
  },
  {
   "cell_type": "code",
   "execution_count": null,
   "id": "fa305842-8d09-453c-a5b8-7c915a3e1bbd",
   "metadata": {},
   "outputs": [],
   "source": []
  }
 ],
 "metadata": {
  "kernelspec": {
   "display_name": "Python 3 (ipykernel)",
   "language": "python",
   "name": "python3"
  },
  "language_info": {
   "codemirror_mode": {
    "name": "ipython",
    "version": 3
   },
   "file_extension": ".py",
   "mimetype": "text/x-python",
   "name": "python",
   "nbconvert_exporter": "python",
   "pygments_lexer": "ipython3",
   "version": "3.10.4"
  }
 },
 "nbformat": 4,
 "nbformat_minor": 5
}
