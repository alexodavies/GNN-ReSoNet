{
 "cells": [
  {
   "cell_type": "code",
   "execution_count": 1,
   "id": "ee10e840-9477-4a8b-9dea-7c9f0b8dbde5",
   "metadata": {},
   "outputs": [],
   "source": [
    "import networkx as nx\n",
    "import numpy as np\n",
    "import pandas as pd\n",
    "import matplotlib.pyplot as plt\n",
    "import os\n",
    "from tqdm import tqdm"
   ]
  },
  {
   "cell_type": "code",
   "execution_count": 2,
   "id": "361f7278-1b00-4899-bdbd-8e1edee08cf8",
   "metadata": {},
   "outputs": [],
   "source": [
    "def graph_load_batch(data_dir,\n",
    "                     # min_num_nodes=20,\n",
    "                     # max_num_nodes=1000,\n",
    "                     name='ENZYMES',\n",
    "                     node_attributes=False,\n",
    "                     graph_labels=True):\n",
    "    '''\n",
    "    load many graphs, e.g. enzymes\n",
    "    :return: a list of graphs\n",
    "    '''\n",
    "    print('Loading graph dataset: ' + str(name))\n",
    "    G = nx.Graph()\n",
    "    # load data\n",
    "    path = os.path.join(data_dir, name.upper())\n",
    "\n",
    "    print(os.path.join(path, '{}_A.txt'.format(name)))\n",
    "\n",
    "    data_adj = np.loadtxt(\n",
    "        os.path.join(path, '{}_A.txt'.format(name)), delimiter=',').astype(int)\n",
    "    \n",
    "    print(\"Loaded Adjacency\")\n",
    "    if node_attributes:\n",
    "        data_node_att = np.loadtxt(\n",
    "            os.path.join(path, '{}_node_attributes.txt'.format(name)),\n",
    "            delimiter=',')\n",
    "    data_node_label = np.loadtxt(\n",
    "        os.path.join(path, '{}_node_labels.txt'.format(name)),\n",
    "        delimiter=',').astype(int)\n",
    "    data_graph_indicator = np.loadtxt(\n",
    "        os.path.join(path, '{}_graph_indicator.txt'.format(name)),\n",
    "        delimiter=',').astype(int)\n",
    "    if graph_labels:\n",
    "        data_graph_labels = np.loadtxt(\n",
    "            os.path.join(path, '{}_graph_labels.txt'.format(name)),\n",
    "            delimiter=',').astype(int)\n",
    "\n",
    "    data_tuple = list(map(tuple, data_adj))\n",
    "    # print(len(data_tuple))\n",
    "    # print(data_tuple[0])\n",
    "\n",
    "    # add edges\n",
    "    G.add_edges_from(data_tuple)\n",
    "    # add node attributes\n",
    "    for i in range(data_node_label.shape[0]):\n",
    "        if node_attributes:\n",
    "            G.add_node(i + 1, feature=data_node_att[i])\n",
    "        G.add_node(i + 1, label=data_node_label[i])\n",
    "    G.remove_nodes_from(list(nx.isolates(G)))\n",
    "\n",
    "    # remove self-loop\n",
    "    G.remove_edges_from(nx.selfloop_edges(G))\n",
    "\n",
    "    # print(G.number_of_nodes())\n",
    "    # print(G.number_of_edges())\n",
    "\n",
    "    # split into graphs\n",
    "    graph_num = data_graph_indicator.max()\n",
    "    node_list = np.arange(data_graph_indicator.shape[0]) + 1\n",
    "    graphs = []\n",
    "    max_nodes = 0\n",
    "    min_nodes = int(1e6)\n",
    "    for i in tqdm(range(graph_num)):\n",
    "        # find the nodes for each graph\n",
    "        nodes = node_list[data_graph_indicator == i + 1]\n",
    "        G_sub = G.subgraph(nodes)\n",
    "        if graph_labels:\n",
    "            G_sub.graph['label'] = data_graph_labels[i]\n",
    "        # print('nodes', G_sub.number_of_nodes())\n",
    "        # print('edges', G_sub.number_of_edges())\n",
    "        # print('label', G_sub.graph)\n",
    "        # if G_sub.number_of_nodes() >= min_num_nodes and G_sub.number_of_nodes(\n",
    "        \n",
    "        Gcc = sorted(nx.connected_components(G_sub), key=len, reverse=True)\n",
    "        G0 = G_sub.subgraph(Gcc[0])\n",
    "        \n",
    "        # ) <= max_num_nodes:\n",
    "        graphs.append(G0)\n",
    "    if G_sub.number_of_nodes() > max_nodes:\n",
    "        max_nodes = G_sub.number_of_nodes()\n",
    "    elif G_sub.number_of_nodes() < min_nodes:\n",
    "        min_nodes = G_sub.number_of_nodes()\n",
    "      # print(G_sub.number_of_nodes(), 'i', i)\n",
    "      # print('Graph dataset name: {}, total graph num: {}'.format(name, len(graphs)))\n",
    "      # logging.warning('Graphs loaded, total num: {}'.format(len(graphs)))\n",
    "    print('Loaded')\n",
    "    return graphs    #, max_nodes, min_nodes"
   ]
  },
  {
   "cell_type": "code",
   "execution_count": 3,
   "id": "89abb413-e7f2-4491-b6e2-adb7c73ce556",
   "metadata": {},
   "outputs": [
    {
     "name": "stdout",
     "output_type": "stream",
     "text": [
      "Loading graph dataset: FB_LARGE\n",
      "/home/alex/Projects/GRAN_social/data/FB_LARGE/FB_LARGE_A.txt\n",
      "Loaded Adjacency\n"
     ]
    },
    {
     "name": "stderr",
     "output_type": "stream",
     "text": [
      "100%|████████████████████████████████████████| 200/200 [00:00<00:00, 565.95it/s]\n"
     ]
    },
    {
     "name": "stdout",
     "output_type": "stream",
     "text": [
      "Loaded\n",
      "Loading graph dataset: GIT\n",
      "/home/alex/Projects/GRAN_social/data/GIT/GIT_A.txt\n",
      "Loaded Adjacency\n"
     ]
    },
    {
     "name": "stderr",
     "output_type": "stream",
     "text": [
      "100%|████████████████████████████████████████| 200/200 [00:00<00:00, 711.04it/s]\n"
     ]
    },
    {
     "name": "stdout",
     "output_type": "stream",
     "text": [
      "Loaded\n",
      "Loading graph dataset: TWITCH\n",
      "/home/alex/Projects/GRAN_social/data/TWITCH/TWITCH_A.txt\n",
      "Loaded Adjacency\n"
     ]
    },
    {
     "name": "stderr",
     "output_type": "stream",
     "text": [
      "100%|████████████████████████████████████████| 200/200 [00:00<00:00, 666.69it/s]\n"
     ]
    },
    {
     "name": "stdout",
     "output_type": "stream",
     "text": [
      "Loaded\n",
      "Loading graph dataset: DEEZER_EGO\n",
      "/home/alex/Projects/GRAN_social/data/DEEZER_EGO/DEEZER_EGO_A.txt\n",
      "Loaded Adjacency\n"
     ]
    },
    {
     "name": "stderr",
     "output_type": "stream",
     "text": [
      "100%|█████████████████████████████████████| 9629/9629 [00:01<00:00, 5543.25it/s]"
     ]
    },
    {
     "name": "stdout",
     "output_type": "stream",
     "text": [
      "Loaded\n"
     ]
    },
    {
     "name": "stderr",
     "output_type": "stream",
     "text": [
      "\n"
     ]
    }
   ],
   "source": [
    "data_dir = \"/home/alex/Projects/GRAN_social/data\"\n",
    "\n",
    "facebook_graphs = graph_load_batch(data_dir, name = \"FB_LARGE\")\n",
    "git_graphs      = graph_load_batch(data_dir, name = \"GIT\")\n",
    "twitch_graphs   = graph_load_batch(data_dir, name = \"TWITCH\")\n",
    "deezer_graphs   = graph_load_batch(data_dir, name = \"DEEZER_EGO\")"
   ]
  },
  {
   "cell_type": "code",
   "execution_count": 4,
   "id": "36069242-517d-42c1-8a32-2af98672e77f",
   "metadata": {},
   "outputs": [],
   "source": [
    "def community_labels(communities):\n",
    "    keys = list(communities.keys())\n",
    "    labels = []\n",
    "    \n",
    "    for k in keys:\n",
    "        label = communities[k]\n",
    "        if label not in labels:\n",
    "            labels.append(label)\n",
    "            \n",
    "    return labels"
   ]
  },
  {
   "cell_type": "code",
   "execution_count": 5,
   "id": "ed3c604c-4567-4e6c-bd03-d68c8b69ee66",
   "metadata": {},
   "outputs": [
    {
     "name": "stdout",
     "output_type": "stream",
     "text": [
      "facebook\n",
      "Densities done\n",
      "Nodes done\n",
      "Calculated\n",
      "git\n",
      "Densities done\n",
      "Nodes done\n",
      "Calculated\n",
      "twitch\n",
      "Densities done\n",
      "Nodes done\n",
      "Calculated\n",
      "deezer\n",
      "Densities done\n",
      "Nodes done\n",
      "Calculated\n"
     ]
    }
   ],
   "source": [
    "# import networkx.algorithms.community as nx_comm\n",
    "import community as lv\n",
    "import networkx.algorithms.community as comm\n",
    "\n",
    "\n",
    "\n",
    "datasets = {\"facebook\":{\"data\":facebook_graphs},\n",
    "            \"git\":{\"data\":git_graphs},\n",
    "            \"twitch\":{\"data\":twitch_graphs},\n",
    "            \"deezer\":{\"data\":deezer_graphs}}\n",
    "\n",
    "keys = list(datasets.keys())\n",
    "\n",
    "for k in keys:\n",
    "    print(k)\n",
    "    graphs = datasets[k][\"data\"]\n",
    "    \n",
    "    densities  = [nx.density(g) for g in graphs]\n",
    "    print(\"Densities done\")\n",
    "    nodes      = [nx.number_of_nodes(g) for g in graphs]\n",
    "    print(\"Nodes done\")\n",
    "    # diameters  = [nx.diameter(g) for g in graphs]\n",
    "    # print(\"Print diameters\")\n",
    "    clustering = []\n",
    "    \n",
    "    for g in graphs:\n",
    "        communities = lv.best_partition(g)\n",
    "        # print(community_labels(communities))\n",
    "        clustering.append(len(community_labels(communities)))\n",
    "    \n",
    "    # len(lv.best_partition(g)) for g in tqdm(graphs)]\n",
    "    print(\"Calculated\")\n",
    "    datasets[k][\"metrics\"] = {\"num_graphs\":len(graphs),\n",
    "                              \"min_nodes\":min(nodes),\n",
    "                             \"max_nodes\":max(nodes),\n",
    "                             \"min_density\":min(densities),\n",
    "                             \"max_density\":max(densities),\n",
    "                             \"min_clustering\":min(clustering),\n",
    "                             \"max_clustering\":max(clustering)}#,\n",
    "                             #\"min_diameter\":min(diameters),\n",
    "                             #\"max_diameter\":max(diameters)}\n",
    "    \n",
    "# print(datasets)\n",
    "        "
   ]
  },
  {
   "cell_type": "code",
   "execution_count": 6,
   "id": "9d1fba02-fe8c-4945-bed4-ef6eaa11619c",
   "metadata": {},
   "outputs": [
    {
     "name": "stdout",
     "output_type": "stream",
     "text": [
      "{'facebook': {'metrics': {'num_graphs': 200, 'min_nodes': 279, 'max_nodes': 531, 'min_density': 0.00945397528131341, 'max_density': 0.03613229228497938, 'min_clustering': 9, 'max_clustering': 24}}, 'git': {'metrics': {'num_graphs': 200, 'min_nodes': 288, 'max_nodes': 525, 'min_density': 0.0062138865207918914, 'max_density': 0.013846153846153847, 'min_clustering': 13, 'max_clustering': 21}}, 'twitch': {'metrics': {'num_graphs': 200, 'min_nodes': 280, 'max_nodes': 533, 'min_density': 0.008408741268764394, 'max_density': 0.014493805652342238, 'min_clustering': 12, 'max_clustering': 19}}, 'deezer': {'metrics': {'num_graphs': 9629, 'min_nodes': 1, 'max_nodes': 362, 'min_density': 0, 'max_density': 1.0, 'min_clustering': 1, 'max_clustering': 12}}}\n",
      "                  facebook         git      twitch  deezer\n",
      "                   metrics     metrics     metrics metrics\n",
      "num_graphs      200.000000  200.000000  200.000000  9629.0\n",
      "min_nodes       279.000000  288.000000  280.000000     1.0\n",
      "max_nodes       531.000000  525.000000  533.000000   362.0\n",
      "min_density       0.009454    0.006214    0.008409     0.0\n",
      "max_density       0.036132    0.013846    0.014494     1.0\n",
      "min_clustering    9.000000   13.000000   12.000000     1.0\n",
      "max_clustering   24.000000   21.000000   19.000000    12.0\n",
      "\\begin{tabular}{lrrrr}\n",
      " & facebook & git & twitch & deezer \\\\\n",
      " & metrics & metrics & metrics & metrics \\\\\n",
      "num_graphs & 200.000000 & 200.000000 & 200.000000 & 9629.000000 \\\\\n",
      "min_nodes & 279.000000 & 288.000000 & 280.000000 & 1.000000 \\\\\n",
      "max_nodes & 531.000000 & 525.000000 & 533.000000 & 362.000000 \\\\\n",
      "min_density & 0.009454 & 0.006214 & 0.008409 & 0.000000 \\\\\n",
      "max_density & 0.036132 & 0.013846 & 0.014494 & 1.000000 \\\\\n",
      "min_clustering & 9.000000 & 13.000000 & 12.000000 & 1.000000 \\\\\n",
      "max_clustering & 24.000000 & 21.000000 & 19.000000 & 12.000000 \\\\\n",
      "\\end{tabular}\n",
      "\n"
     ]
    }
   ],
   "source": [
    "user_dict = dict(datasets)\n",
    "\n",
    "\n",
    "for k in keys:\n",
    "    del user_dict[k][\"data\"]\n",
    "print(user_dict)\n",
    "\n",
    "frame = pd.DataFrame.from_dict({(i,j): user_dict[i][j] \n",
    "                           for i in user_dict.keys() \n",
    "                           for j in user_dict[i].keys()},\n",
    "                       orient='index')\n",
    "print(frame.transpose())\n",
    "print(frame.transpose().style.to_latex())"
   ]
  },
  {
   "cell_type": "code",
   "execution_count": 7,
   "id": "4f1c0986-3efc-435b-b906-0f68d1312230",
   "metadata": {},
   "outputs": [],
   "source": [
    "def get_colors(com):\n",
    "    n_nodes = len(list(com.keys()))\n",
    "    \n",
    "    keys = list(com.keys())\n",
    "    \n",
    "    colors = []\n",
    "    for i in range(len(keys)):\n",
    "        colors.append(com[keys[i]])\n",
    "    return colors\n",
    "    "
   ]
  },
  {
   "cell_type": "code",
   "execution_count": 8,
   "id": "a32a3ce0-6842-4d7a-87ca-f21c2c07f1a7",
   "metadata": {},
   "outputs": [
    {
     "ename": "KeyError",
     "evalue": "'data'",
     "output_type": "error",
     "traceback": [
      "\u001b[0;31m---------------------------------------------------------------------------\u001b[0m",
      "\u001b[0;31mKeyError\u001b[0m                                  Traceback (most recent call last)",
      "Input \u001b[0;32mIn [8]\u001b[0m, in \u001b[0;36m<cell line: 3>\u001b[0;34m()\u001b[0m\n\u001b[1;32m      1\u001b[0m fig, (ax1, ax2, ax3) \u001b[38;5;241m=\u001b[39m plt\u001b[38;5;241m.\u001b[39msubplots(figsize \u001b[38;5;241m=\u001b[39m (\u001b[38;5;241m9\u001b[39m,\u001b[38;5;241m3\u001b[39m), ncols \u001b[38;5;241m=\u001b[39m \u001b[38;5;241m3\u001b[39m, constrained_layout \u001b[38;5;241m=\u001b[39m \u001b[38;5;28;01mTrue\u001b[39;00m)\n\u001b[0;32m----> 3\u001b[0m graphs  \u001b[38;5;241m=\u001b[39m \u001b[43mdatasets\u001b[49m\u001b[43m[\u001b[49m\u001b[38;5;124;43m\"\u001b[39;49m\u001b[38;5;124;43mfacebook\u001b[39;49m\u001b[38;5;124;43m\"\u001b[39;49m\u001b[43m]\u001b[49m\u001b[43m[\u001b[49m\u001b[38;5;124;43m\"\u001b[39;49m\u001b[38;5;124;43mdata\u001b[39;49m\u001b[38;5;124;43m\"\u001b[39;49m\u001b[43m]\u001b[49m\n\u001b[1;32m      4\u001b[0m \u001b[38;5;66;03m# pos = nx.spring_layout(graph, iterations=25)\u001b[39;00m\n\u001b[1;32m      6\u001b[0m \u001b[38;5;28;01mdef\u001b[39;00m \u001b[38;5;21mcommunity_draw\u001b[39m(graph, ax, pos):\n",
      "\u001b[0;31mKeyError\u001b[0m: 'data'"
     ]
    },
    {
     "data": {
      "image/png": "[encoded data removed]",
      "text/plain": [
       "<Figure size 648x216 with 3 Axes>"
      ]
     },
     "metadata": {
      "needs_background": "light"
     },
     "output_type": "display_data"
    }
   ],
   "source": [
    "fig, (ax1, ax2, ax3) = plt.subplots(figsize = (9,3), ncols = 3, constrained_layout = True)\n",
    "\n",
    "graphs  = datasets[\"facebook\"][\"data\"]\n",
    "# pos = nx.spring_layout(graph, iterations=25)\n",
    "\n",
    "def community_draw(graph, ax, pos):\n",
    "\n",
    "    communities = lv.best_partition(graph, randomize=True)\n",
    "\n",
    "    colors = get_colors(communities)\n",
    "\n",
    "\n",
    "\n",
    "    nx.draw_networkx_nodes(graph,\n",
    "                           pos = pos,\n",
    "                           node_size = 25,\n",
    "                          node_color = colors,\n",
    "                          ax = ax,\n",
    "                           cmap = \"tab20\",\n",
    "                          edgecolors=\"0\")\n",
    "    nx.draw_networkx_edges(graph, pos = pos, ax = ax)\n",
    "    \n",
    "    \n",
    "    ax.set_title(r\"$|V| = {{{}}}, {{{}}}$ communities\".format(len(colors), np.unique(colors).shape[0]))\n",
    "    \n",
    "    return ax\n",
    "\n",
    "ax1 = community_draw(graphs[0], ax1, nx.spring_layout(graphs[0], iterations=25))\n",
    "ax2 = community_draw(graphs[4], ax2, nx.spring_layout(graphs[4], iterations=25))\n",
    "ax3 = community_draw(graphs[5], ax3, nx.spring_layout(graphs[5], iterations=25))\n",
    "\n",
    "plt.savefig(\"Community_example.jpg\", dpi = 300)\n",
    "plt.show()"
   ]
  },
  {
   "cell_type": "code",
   "execution_count": null,
   "id": "087a85bd-5f99-4b1a-830a-653f7653d72e",
   "metadata": {},
   "outputs": [],
   "source": []
  },
  {
   "cell_type": "code",
   "execution_count": null,
   "id": "48692bd4-3082-4ffb-a593-91e1916cc4ca",
   "metadata": {},
   "outputs": [],
   "source": []
  }
 ],
 "metadata": {
  "kernelspec": {
   "display_name": "Python 3 (ipykernel)",
   "language": "python",
   "name": "python3"
  },
  "language_info": {
   "codemirror_mode": {
    "name": "ipython",
    "version": 3
   },
   "file_extension": ".py",
   "mimetype": "text/x-python",
   "name": "python",
   "nbconvert_exporter": "python",
   "pygments_lexer": "ipython3",
   "version": "3.10.4"
  }
 },
 "nbformat": 4,
 "nbformat_minor": 5
}
